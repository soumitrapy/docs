{
  "nbformat": 4,
  "nbformat_minor": 0,
  "metadata": {
    "colab": {
      "provenance": [],
      "include_colab_link": true
    },
    "kernelspec": {
      "name": "python3",
      "display_name": "Python 3"
    },
    "language_info": {
      "name": "python"
    }
  },
  "cells": [
    {
      "cell_type": "markdown",
      "metadata": {
        "id": "view-in-github",
        "colab_type": "text"
      },
      "source": [
        "<a href=\"https://colab.research.google.com/github/soumitrapy/docs/blob/main/torrent2.ipynb\" target=\"_parent\"><img src=\"https://colab.research.google.com/assets/colab-badge.svg\" alt=\"Open In Colab\"/></a>"
      ]
    },
    {
      "cell_type": "code",
      "source": [
        "# @title Downloader\n",
        "%%capture\n",
        "import warnings\n",
        "warnings.filterwarnings(\"ignore\")\n",
        "\n",
        "!python -m pip install --upgrade pip setuptools wheel\n",
        "!python -m pip install lbry-libtorrent\n",
        "!apt install python3-libtorrent\n",
        "import time\n",
        "from IPython.display import display\n",
        "import ipywidgets as widgets\n",
        "\n",
        "import libtorrent as lt\n",
        "ses = lt.session()\n",
        "ses.listen_on(6881, 6891)\n",
        "\n",
        "\n",
        "class Downloader:\n",
        "  def __init__(self, path=\"/content\"):\n",
        "    self.params = {\"save_path\": path}\n",
        "    self.links = []\n",
        "    self.state_str = [\n",
        "        \"queued\",\n",
        "        \"checking\",\n",
        "        \"downloading metadata\",\n",
        "        \"downloading\",\n",
        "        \"finished\",\n",
        "        \"seeding\",\n",
        "        \"allocating\",\n",
        "        \"checking fastresume\",\n",
        "    ]\n",
        "    self.layout = widgets.Layout(width=\"auto\")\n",
        "    self.style = {\"description_width\": \"initial\"}\n",
        "\n",
        "  def download(self, k=None):\n",
        "    if k is None:\n",
        "      link = input(\"Enter Magnet Link Or Type Enter: \")\n",
        "      if len(link)>1:\n",
        "        self.links.append(link)\n",
        "      k = -1\n",
        "\n",
        "    link = self.links[k]\n",
        "    download = lt.add_magnet_uri(ses, link, self.params)\n",
        "    bar = widgets.FloatSlider(step=0.01,\n",
        "                              disabled=True,\n",
        "                              layout=self.layout,\n",
        "                              style=self.style\n",
        "                              )\n",
        "\n",
        "    display(bar)\n",
        "\n",
        "    while self.links:\n",
        "      next_shift = 0\n",
        "      if not download.is_seed():\n",
        "          s = download.status()\n",
        "\n",
        "          bar.description = \" \".join(\n",
        "              [\n",
        "                  download.name()[:30],\n",
        "                  str(s.download_rate / 1000),\n",
        "                  \"kB/s\",\n",
        "                  self.state_str[s.state],\n",
        "              ]\n",
        "          )\n",
        "          bar.value = s.progress * 100\n",
        "      else:\n",
        "          next_shift -= 1\n",
        "          ses.remove_torrent(download)\n",
        "          self.links.pop(k)\n",
        "          print(\"=\"*10+\"Download Complete\"+\"=\"*10)\n",
        "\n",
        "  def clear(self):\n",
        "    self.links.clear()\n",
        "\n",
        "d = Downloader()\n",
        "#d.download(-1)\n",
        "#d.links"
      ],
      "metadata": {
        "id": "wg3xFRMHpRkt"
      },
      "execution_count": null,
      "outputs": []
    },
    {
      "cell_type": "code",
      "source": [
        "d.download()"
      ],
      "metadata": {
        "id": "fwJdVdBUtOK8"
      },
      "execution_count": null,
      "outputs": []
    },
    {
      "cell_type": "code",
      "source": [
        "from google.colab import drive\n",
        "drive.mount('/content/drive')"
      ],
      "metadata": {
        "id": "gI5I22n-3MP_"
      },
      "execution_count": null,
      "outputs": []
    }
  ]
}