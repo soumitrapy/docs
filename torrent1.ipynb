{
  "nbformat": 4,
  "nbformat_minor": 0,
  "metadata": {
    "colab": {
      "provenance": []
    },
    "kernelspec": {
      "name": "python3",
      "display_name": "Python 3"
    },
    "language_info": {
      "name": "python"
    },
    "widgets": {
      "application/vnd.jupyter.widget-state+json": {
        "09d92e089ec14853a2d6850d08e654fb": {
          "model_module": "@jupyter-widgets/controls",
          "model_name": "FloatSliderModel",
          "model_module_version": "1.5.0",
          "state": {
            "_dom_classes": [],
            "_model_module": "@jupyter-widgets/controls",
            "_model_module_version": "1.5.0",
            "_model_name": "FloatSliderModel",
            "_view_count": null,
            "_view_module": "@jupyter-widgets/controls",
            "_view_module_version": "1.5.0",
            "_view_name": "FloatSliderView",
            "continuous_update": true,
            "description": "Stree 2 (2024) Hindi 720p WEBRip x264 AAC ESub.mkv 1753.703 kB/s downloading",
            "description_tooltip": null,
            "disabled": true,
            "layout": "IPY_MODEL_7ff6d6fce50844e3b9d39ffe8a966a12",
            "max": 100,
            "min": 0,
            "orientation": "horizontal",
            "readout": true,
            "readout_format": ".2f",
            "step": 0.01,
            "style": "IPY_MODEL_f632cfcc45c44f2d93ecd0553928ef5c",
            "value": 99.99399781227112
          }
        },
        "7ff6d6fce50844e3b9d39ffe8a966a12": {
          "model_module": "@jupyter-widgets/base",
          "model_name": "LayoutModel",
          "model_module_version": "1.2.0",
          "state": {
            "_model_module": "@jupyter-widgets/base",
            "_model_module_version": "1.2.0",
            "_model_name": "LayoutModel",
            "_view_count": null,
            "_view_module": "@jupyter-widgets/base",
            "_view_module_version": "1.2.0",
            "_view_name": "LayoutView",
            "align_content": null,
            "align_items": null,
            "align_self": null,
            "border": null,
            "bottom": null,
            "display": null,
            "flex": null,
            "flex_flow": null,
            "grid_area": null,
            "grid_auto_columns": null,
            "grid_auto_flow": null,
            "grid_auto_rows": null,
            "grid_column": null,
            "grid_gap": null,
            "grid_row": null,
            "grid_template_areas": null,
            "grid_template_columns": null,
            "grid_template_rows": null,
            "height": null,
            "justify_content": null,
            "justify_items": null,
            "left": null,
            "margin": null,
            "max_height": null,
            "max_width": null,
            "min_height": null,
            "min_width": null,
            "object_fit": null,
            "object_position": null,
            "order": null,
            "overflow": null,
            "overflow_x": null,
            "overflow_y": null,
            "padding": null,
            "right": null,
            "top": null,
            "visibility": null,
            "width": "auto"
          }
        },
        "f632cfcc45c44f2d93ecd0553928ef5c": {
          "model_module": "@jupyter-widgets/controls",
          "model_name": "SliderStyleModel",
          "model_module_version": "1.5.0",
          "state": {
            "_model_module": "@jupyter-widgets/controls",
            "_model_module_version": "1.5.0",
            "_model_name": "SliderStyleModel",
            "_view_count": null,
            "_view_module": "@jupyter-widgets/base",
            "_view_module_version": "1.2.0",
            "_view_name": "StyleView",
            "description_width": "initial",
            "handle_color": null
          }
        }
      }
    }
  },
  "cells": [
    {
      "cell_type": "code",
      "execution_count": null,
      "metadata": {
        "id": "189fSWE5BHCg"
      },
      "outputs": [],
      "source": [
        "!pip install -q gwpy\n",
        "# use %%capture\n",
        "\n",
        "# from google.colab import drive\n",
        "# drive.mount('/content/drive')"
      ]
    },
    {
      "cell_type": "code",
      "source": [
        "%%capture\n",
        "!apt install python3-libtorrent\n",
        "import libtorrent as lt\n",
        "ses = lt.session()\n",
        "ses.listen_on(6881, 6891)\n",
        "#downloads = []\n",
        "\n",
        "import time\n",
        "from IPython.display import display\n",
        "import ipywidgets as widgets\n",
        "\n",
        "\n",
        "class Downloader:\n",
        "  def __init__(self, path=\"/content/drive/My Drive/Movies\"):\n",
        "    params = {\"save_path\": path}\n",
        "    self.downloads = []\n",
        "    while True:\n",
        "      magnet_link = input(\"Enter Magnet Link Or Type Exit: \")\n",
        "      if magnet_link.lower() == \"\":\n",
        "          break\n",
        "      self.downloads.append(\n",
        "          lt.add_magnet_uri(ses, magnet_link, params)\n",
        "      )\n",
        "\n",
        "  def download(self):\n",
        "    downloads = self.downloads\n",
        "    state_str = [\n",
        "        \"queued\",\n",
        "        \"checking\",\n",
        "        \"downloading metadata\",\n",
        "        \"downloading\",\n",
        "        \"finished\",\n",
        "        \"seeding\",\n",
        "        \"allocating\",\n",
        "        \"checking fastresume\",\n",
        "    ]\n",
        "\n",
        "    layout = widgets.Layout(width=\"auto\")\n",
        "    style = {\"description_width\": \"initial\"}\n",
        "    download_bars = [\n",
        "        widgets.FloatSlider(\n",
        "            step=0.01, disabled=True, layout=layout, style=style\n",
        "        )\n",
        "        for _ in downloads\n",
        "    ]\n",
        "    display(*download_bars)\n",
        "\n",
        "    while downloads:\n",
        "        next_shift = 0\n",
        "        for index, download in enumerate(downloads[:]):\n",
        "            bar = download_bars[index + next_shift]\n",
        "            if not download.is_seed():\n",
        "                s = download.status()\n",
        "\n",
        "                bar.description = \" \".join(\n",
        "                    [\n",
        "                        download.name(),\n",
        "                        str(s.download_rate / 1000),\n",
        "                        \"kB/s\",\n",
        "                        state_str[s.state],\n",
        "                    ]\n",
        "                )\n",
        "                bar.value = s.progress * 100\n",
        "            else:\n",
        "                next_shift -= 1\n",
        "                ses.remove_torrent(download)\n",
        "                downloads.remove(download)\n",
        "                bar.close() # Seems to be not working in Colab (see https://github.com/googlecolab/colabtools/issues/726#issue-486731758)\n",
        "                download_bars.remove(bar)\n",
        "                print(download.name(), \"complete\")\n",
        "        time.sleep(1)\n",
        "#temp = Downloader()"
      ],
      "metadata": {
        "id": "N1WoTEY6F6cl"
      },
      "execution_count": null,
      "outputs": []
    },
    {
      "cell_type": "code",
      "source": [
        "### Downloading ###\n",
        "d = Downloader(path = \"/content\")\n",
        "d.download()"
      ],
      "metadata": {
        "id": "yhhoWekcTRUG",
        "colab": {
          "base_uri": "https://localhost:8080/",
          "height": 234,
          "referenced_widgets": [
            "09d92e089ec14853a2d6850d08e654fb",
            "7ff6d6fce50844e3b9d39ffe8a966a12",
            "f632cfcc45c44f2d93ecd0553928ef5c"
          ]
        },
        "outputId": "d4c1ea9f-591d-48e5-80cb-3030873e6939"
      },
      "execution_count": null,
      "outputs": [
        {
          "name": "stdout",
          "output_type": "stream",
          "text": [
            "Enter Magnet Link Or Type Exit: magnet:?xt=urn:btih:975C64C314B3B7584D9803B1612F16B9E396E476&dn=Stree+2+%282024%29+Hindi+720p+WEBRip+x264+AAC+ESub&tr=udp%3A%2F%2Ftracker.opentrackr.org%3A1337%2Fannounce&tr=udp%3A%2F%2Fopen.tracker.cl%3A1337%2Fannounce&tr=udp%3A%2F%2Ftracker.auctor.tv%3A6969%2Fannounce&tr=udp%3A%2F%2Fopentracker.i2p.rocks%3A6969%2Fannounce&tr=udp%3A%2F%2Fopen.demonii.com%3A1337%2Fannounce&tr=udp%3A%2F%2Fopen.stealth.si%3A80%2Fannounce&tr=udp%3A%2F%2Ftracker.torrent.eu.org%3A451%2Fannounce&tr=udp%3A%2F%2Ftracker.moeking.me%3A6969%2Fannounce&tr=udp%3A%2F%2Fexplodie.org%3A6969%2Fannounce&tr=https%3A%2F%2Ftracker.tamersunion.org%3A443%2Fannounce&tr=https%3A%2F%2Ftracker.gbitt.info%3A443%2Fannounce&tr=http%3A%2F%2Ftracker.gbitt.info%3A80%2Fannounce&tr=udp%3A%2F%2Ftracker-udp.gbitt.info%3A80%2Fannounce&tr=udp%3A%2F%2Ftracker.tiny-vps.com%3A6969%2Fannounce&tr=udp%3A%2F%2Ftracker.opentrackr.org%3A1337%2Fannounce&tr=http%3A%2F%2Ftracker.openbittorrent.com%3A80%2Fannounce&tr=udp%3A%2F%2Fopentracker.i2p.rocks%3A6969%2Fannounce&tr=udp%3A%2F%2Ftracker.internetwarriors.net%3A1337%2Fannounce&tr=udp%3A%2F%2Ftracker.leechers-paradise.org%3A6969%2Fannounce&tr=udp%3A%2F%2Fcoppersurfer.tk%3A6969%2Fannounce&tr=udp%3A%2F%2Ftracker.zer0day.to%3A1337%2Fannounce\n"
          ]
        },
        {
          "output_type": "stream",
          "name": "stderr",
          "text": [
            "<ipython-input-9-bdcb55ccd3d2>:21: DeprecationWarning: add_magnet_uri() is deprecated\n",
            "  lt.add_magnet_uri(ses, magnet_link, params)\n"
          ]
        },
        {
          "name": "stdout",
          "output_type": "stream",
          "text": [
            "Enter Magnet Link Or Type Exit: \n"
          ]
        },
        {
          "output_type": "display_data",
          "data": {
            "text/plain": [
              "FloatSlider(value=0.0, disabled=True, layout=Layout(width='auto'), step=0.01, style=SliderStyle(description_wi…"
            ],
            "application/vnd.jupyter.widget-view+json": {
              "version_major": 2,
              "version_minor": 0,
              "model_id": "09d92e089ec14853a2d6850d08e654fb"
            }
          },
          "metadata": {}
        },
        {
          "output_type": "stream",
          "name": "stderr",
          "text": [
            "<ipython-input-9-bdcb55ccd3d2>:51: DeprecationWarning: is_seed() is deprecated\n",
            "  if not download.is_seed():\n",
            "<ipython-input-9-bdcb55ccd3d2>:56: DeprecationWarning: name() is deprecated\n",
            "  download.name(),\n",
            "<ipython-input-9-bdcb55ccd3d2>:69: DeprecationWarning: name() is deprecated\n",
            "  print(download.name(), \"complete\")\n"
          ]
        },
        {
          "output_type": "stream",
          "name": "stdout",
          "text": [
            "Stree 2 (2024) Hindi 720p WEBRip x264 AAC ESub.mkv complete\n"
          ]
        }
      ]
    },
    {
      "cell_type": "markdown",
      "source": [
        "# Copying to Drive"
      ],
      "metadata": {
        "id": "pV2v6a_l-dIz"
      }
    },
    {
      "cell_type": "code",
      "source": [
        "# # mount it\n",
        "# from google.colab import drive\n",
        "# drive.mount('/content/drive')\n",
        "# # copy it there\n",
        "# !cp /content/'Stree 2 (2024) Hindi 720p WEBRip x264 AAC ESub.mkv' /content/drive/MyDrive/Movies/"
      ],
      "metadata": {
        "colab": {
          "base_uri": "https://localhost:8080/"
        },
        "id": "EAdqkn3k8tVz",
        "outputId": "1cee36bb-fa8b-4100-a17e-c2c6dd56be46"
      },
      "execution_count": null,
      "outputs": [
        {
          "output_type": "stream",
          "name": "stdout",
          "text": [
            "Drive already mounted at /content/drive; to attempt to forcibly remount, call drive.mount(\"/content/drive\", force_remount=True).\n"
          ]
        }
      ]
    },
    {
      "cell_type": "markdown",
      "source": [
        "# Add from torrent file"
      ],
      "metadata": {
        "id": "F6VqmRNfH9wv"
      }
    },
    {
      "cell_type": "code",
      "source": [
        "# # For uploading torrent file from local pc\n",
        "# from google.colab import files\n",
        "\n",
        "# source = files.upload()\n",
        "# params = {\n",
        "#     \"save_path\": \"/content/drive/My Drive/Torrent\",\n",
        "#     \"ti\": lt.torrent_info(list(source.keys())[0]),\n",
        "# }\n",
        "# downloads.append(ses.add_torrent(params))"
      ],
      "metadata": {
        "id": "UZWX1J18F5O8"
      },
      "execution_count": null,
      "outputs": []
    },
    {
      "cell_type": "markdown",
      "source": [
        "## Add from magnet link"
      ],
      "metadata": {
        "id": "_mHWsNj5Io_6"
      }
    },
    {
      "cell_type": "code",
      "source": [
        "# params = {\"save_path\": \"/content/drive/My Drive/Torrent\"}\n",
        "\n",
        "# while True:\n",
        "#     magnet_link = input(\"Enter Magnet Link Or Type Exit: \")\n",
        "#     if magnet_link.lower() == \"exit\":\n",
        "#         break\n",
        "#     downloads.append(\n",
        "#         lt.add_magnet_uri(ses, magnet_link, params)\n",
        "#    )"
      ],
      "metadata": {
        "id": "WDyeU8eEH4ND"
      },
      "execution_count": null,
      "outputs": []
    },
    {
      "cell_type": "markdown",
      "source": [
        "## Start Download"
      ],
      "metadata": {
        "id": "SfUK6nwMJNx7"
      }
    },
    {
      "cell_type": "code",
      "source": [
        "# import time\n",
        "# from IPython.display import display\n",
        "# import ipywidgets as widgets\n",
        "\n",
        "# state_str = [\n",
        "#     \"queued\",\n",
        "#     \"checking\",\n",
        "#     \"downloading metadata\",\n",
        "#     \"downloading\",\n",
        "#     \"finished\",\n",
        "#     \"seeding\",\n",
        "#     \"allocating\",\n",
        "#     \"checking fastresume\",\n",
        "# ]\n",
        "\n",
        "# layout = widgets.Layout(width=\"auto\")\n",
        "# style = {\"description_width\": \"initial\"}\n",
        "# download_bars = [\n",
        "#     widgets.FloatSlider(\n",
        "#         step=0.01, disabled=True, layout=layout, style=style\n",
        "#     )\n",
        "#     for _ in downloads\n",
        "# ]\n",
        "# display(*download_bars)\n",
        "\n",
        "# while downloads:\n",
        "#     next_shift = 0\n",
        "#     for index, download in enumerate(downloads[:]):\n",
        "#         bar = download_bars[index + next_shift]\n",
        "#         if not download.is_seed():\n",
        "#             s = download.status()\n",
        "\n",
        "#             bar.description = \" \".join(\n",
        "#                 [\n",
        "#                     download.name(),\n",
        "#                     str(s.download_rate / 1000),\n",
        "#                     \"kB/s\",\n",
        "#                     state_str[s.state],\n",
        "#                 ]\n",
        "#             )\n",
        "#             bar.value = s.progress * 100\n",
        "#         else:\n",
        "#             next_shift -= 1\n",
        "#             ses.remove_torrent(download)\n",
        "#             downloads.remove(download)\n",
        "#             bar.close() # Seems to be not working in Colab (see https://github.com/googlecolab/colabtools/issues/726#issue-486731758)\n",
        "#             download_bars.remove(bar)\n",
        "#             print(download.name(), \"complete\")\n",
        "#     time.sleep(1)\n"
      ],
      "metadata": {
        "id": "QNQYk7eoH4AU"
      },
      "execution_count": null,
      "outputs": []
    },
    {
      "cell_type": "code",
      "source": [],
      "metadata": {
        "id": "g_JWOCg4DvRE"
      },
      "execution_count": null,
      "outputs": []
    }
  ]
}