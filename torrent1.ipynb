{
  "nbformat": 4,
  "nbformat_minor": 0,
  "metadata": {
    "colab": {
      "provenance": [],
      "include_colab_link": true
    },
    "kernelspec": {
      "name": "python3",
      "display_name": "Python 3"
    },
    "language_info": {
      "name": "python"
    }
  },
  "cells": [
    {
      "cell_type": "markdown",
      "metadata": {
        "id": "view-in-github",
        "colab_type": "text"
      },
      "source": [
        "<a href=\"https://colab.research.google.com/github/soumitrapy/docs/blob/main/torrent1.ipynb\" target=\"_parent\"><img src=\"https://colab.research.google.com/assets/colab-badge.svg\" alt=\"Open In Colab\"/></a>"
      ]
    },
    {
      "cell_type": "code",
      "source": [
        "# @title Downloader\n",
        "%%capture\n",
        "!apt install python3-libtorrent\n",
        "import libtorrent as lt\n",
        "ses = lt.session()\n",
        "ses.listen_on(6881, 6891)\n",
        "#downloads = []\n",
        "\n",
        "import time\n",
        "from IPython.display import display\n",
        "import ipywidgets as widgets\n",
        "\n",
        "\n",
        "class Downloader:\n",
        "  def __init__(self, path=\"/content/drive/My Drive/Movies\"):\n",
        "    params = {\"save_path\": path}\n",
        "    self.downloads = []\n",
        "    while True:\n",
        "      magnet_link = input(\"Enter Magnet Link Or Type Exit: \")\n",
        "      if magnet_link.lower() == \"\":\n",
        "          break\n",
        "      self.downloads.append(\n",
        "          lt.add_magnet_uri(ses, magnet_link, params)\n",
        "      )\n",
        "\n",
        "  def download(self):\n",
        "    downloads = self.downloads\n",
        "    state_str = [\n",
        "        \"queued\",\n",
        "        \"checking\",\n",
        "        \"downloading metadata\",\n",
        "        \"downloading\",\n",
        "        \"finished\",\n",
        "        \"seeding\",\n",
        "        \"allocating\",\n",
        "        \"checking fastresume\",\n",
        "    ]\n",
        "\n",
        "    layout = widgets.Layout(width=\"auto\")\n",
        "    style = {\"description_width\": \"initial\"}\n",
        "    download_bars = [\n",
        "        widgets.FloatSlider(\n",
        "            step=0.01, disabled=True, layout=layout, style=style\n",
        "        )\n",
        "        for _ in downloads\n",
        "    ]\n",
        "    display(*download_bars)\n",
        "\n",
        "    while downloads:\n",
        "        next_shift = 0\n",
        "        for index, download in enumerate(downloads[:]):\n",
        "            bar = download_bars[index + next_shift]\n",
        "            if not download.is_seed():\n",
        "                s = download.status()\n",
        "\n",
        "                bar.description = \" \".join(\n",
        "                    [\n",
        "                        download.name(),\n",
        "                        str(s.download_rate / 1000),\n",
        "                        \"kB/s\",\n",
        "                        state_str[s.state],\n",
        "                    ]\n",
        "                )\n",
        "                bar.value = s.progress * 100\n",
        "            else:\n",
        "                next_shift -= 1\n",
        "                ses.remove_torrent(download)\n",
        "                downloads.remove(download)\n",
        "                bar.close() # Seems to be not working in Colab (see https://github.com/googlecolab/colabtools/issues/726#issue-486731758)\n",
        "                download_bars.remove(bar)\n",
        "                print(download.name(), \"complete\")\n",
        "        time.sleep(1)\n",
        "#temp = Downloader()"
      ],
      "metadata": {
        "id": "N1WoTEY6F6cl",
        "cellView": "form"
      },
      "execution_count": null,
      "outputs": []
    },
    {
      "cell_type": "code",
      "source": [
        "### Downloading ###\n",
        "%%capture\n",
        "d = Downloader(path = \"/content\")\n",
        "d.download()"
      ],
      "metadata": {
        "id": "yhhoWekcTRUG"
      },
      "execution_count": null,
      "outputs": []
    },
    {
      "cell_type": "markdown",
      "source": [
        "# Copying to Drive"
      ],
      "metadata": {
        "id": "pV2v6a_l-dIz"
      }
    },
    {
      "cell_type": "code",
      "source": [
        "# # mount it\n",
        "# from google.colab import drive\n",
        "# drive.mount('/content/drive')\n",
        "# # copy it there\n",
        "# !cp /content/file.mkv /content/drive/MyDrive/Movies/"
      ],
      "metadata": {
        "id": "EAdqkn3k8tVz"
      },
      "execution_count": null,
      "outputs": []
    }
  ]
}